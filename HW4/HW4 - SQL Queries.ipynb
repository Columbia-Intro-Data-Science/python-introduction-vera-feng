{
 "cells": [
  {
   "cell_type": "markdown",
   "metadata": {
    "deletable": true,
    "editable": true
   },
   "source": [
    "# Homework 4 SQL Queries"
   ]
  },
  {
   "cell_type": "markdown",
   "metadata": {
    "deletable": true,
    "editable": true
   },
   "source": [
    "Q1. Give a count of all the videos currently out."
   ]
  },
  {
   "cell_type": "code",
   "execution_count": 2,
   "metadata": {
    "collapsed": false,
    "deletable": true,
    "editable": true
   },
   "outputs": [
    {
     "ename": "SyntaxError",
     "evalue": "invalid syntax (<ipython-input-2-7e2e02332b73>, line 1)",
     "output_type": "error",
     "traceback": [
      "\u001b[0;36m  File \u001b[0;32m\"<ipython-input-2-7e2e02332b73>\"\u001b[0;36m, line \u001b[0;32m1\u001b[0m\n\u001b[0;31m    SELECT COUNT(rental_id)\u001b[0m\n\u001b[0m               ^\u001b[0m\n\u001b[0;31mSyntaxError\u001b[0m\u001b[0;31m:\u001b[0m invalid syntax\n"
     ]
    }
   ],
   "source": [
    "SELECT COUNT(rental_id) AS \"count of videos out\"\n",
    "FROM rental\n",
    "WHERE return_date IS NULL;"
   ]
  },
  {
   "cell_type": "markdown",
   "metadata": {
    "deletable": true,
    "editable": true
   },
   "source": [
    "Q2. Make a list of all customer names who have videos out and how much they owe."
   ]
  },
  {
   "cell_type": "code",
   "execution_count": null,
   "metadata": {
    "collapsed": true,
    "deletable": true,
    "editable": true
   },
   "outputs": [],
   "source": [
    "SELECT customer.first_name, customer.last_name, payment.amount FROM \n",
    "(\n",
    "    SELECT rental_id, customer_id\n",
    "    FROM rental\n",
    "    WHERE return_date IS NULL  \n",
    ") AS SUBQUERY\n",
    "INNER JOIN customer ON SUBQUERY.customer_id = customer.customer_id\n",
    "INNER JOIN payment ON SUBQUERY.rental_id = payment.rental_id;"
   ]
  },
  {
   "cell_type": "markdown",
   "metadata": {
    "deletable": true,
    "editable": true
   },
   "source": [
    "Q3. What hour of the day do people rent the most?"
   ]
  },
  {
   "cell_type": "code",
   "execution_count": null,
   "metadata": {
    "collapsed": true,
    "deletable": true,
    "editable": true
   },
   "outputs": [],
   "source": [
    "#split rental date column into two columns: date and hour\n",
    "SELECT left(rental_date, CHARINDEX(' ', rental_date)) AS RentalDate,\n",
    "substring(Rental_date, CHARINDEX(' ', rental_date)+1, len(rental_date)-(CHARINDEX(' ', Rental_date)-1)) AS RentalHour\n",
    "FROM rental\n",
    "#the program reminds that CHARINDEX doesn't exist\n",
    "\n",
    "#count the appearances of each hour and make a list\n",
    "#use a SQL operator to find the max\n",
    "\n",
    "\n",
    "SELECT cast(rental_date AS time) [time]\n",
    "FROM rental;"
   ]
  },
  {
   "cell_type": "markdown",
   "metadata": {
    "deletable": true,
    "editable": true
   },
   "source": [
    "Q4. Which store is more profitable, assuming all movies cost $15 per inventory item to purchase."
   ]
  },
  {
   "cell_type": "code",
   "execution_count": null,
   "metadata": {
    "collapsed": true,
    "deletable": true,
    "editable": true
   },
   "outputs": [],
   "source": [
    "#sales - revenue\n",
    "#= total sales - sales quantity * 15\n",
    "#sales - count(inventory_id)*15\n",
    "\n",
    "#the query to get total sales\n",
    "SELECT subquery2.store_id AS store, sales_by_store.total_sales AS sales FROM\n",
    "(\n",
    "\tSELECT concat(staff.first_name, ' ', staff.last_name) AS name, store_id\n",
    "\tFROM staff\n",
    ") AS subquery2\n",
    "INNER JOIN sales_by_store ON subquery2.name = sales_by_store.manager;\n",
    "\n",
    "#query to get cost of each store\n",
    "SELECT 15*COUNT(inventory.inventory_id) AS cost, store_id AS store\n",
    "FROM inventory\n",
    "GROUP BY store_id;\n",
    "\n",
    "#query to union cost, sales and store id into one table\n",
    "SELECT SUBQUERY2.store AS STORE, SUBQUERY2.sales AS SALES, SUBQUERY1.cost AS COST\n",
    "FROM\n",
    "(\n",
    "    SELECT subquery2.store_id AS store, sales_by_store.total_sales AS sales \tFROM\n",
    "    (\n",
    "        SELECT concat(staff.first_name, ' ', staff.last_name) AS name, \t\tstore_id\n",
    "        FROM staff\n",
    "    ) AS subquery2\n",
    "    INNER JOIN sales_by_store ON subquery2.name = sales_by_store.manager\n",
    ") AS SUBQUERY2\n",
    "INNER JOIN \n",
    "(\n",
    "    SELECT 15*COUNT(inventory.inventory_id) AS cost, store_id AS store\n",
    "    FROM inventory\n",
    "    GROUP BY store_id\n",
    ") AS SUBQUERY1 ON SUBQUERY1.store = SUBQUERY2.store;\n",
    "\n",
    "#the overal query to get profit\n",
    "SELECT (OVERALLQUERY.SALES - OVERALLQUERY.COST) AS PROFIT, OVERALLQUERY.STORE AS STORE\n",
    "FROM\n",
    "(\n",
    "    SELECT SUBQUERY2.store AS STORE, SUBQUERY2.sales AS SALES, SUBQUERY1.cost AS COST\n",
    "    FROM\n",
    "(\n",
    "    SELECT subquery2.store_id AS store, sales_by_store.total_sales AS sales \tFROM\n",
    "    (\n",
    "        SELECT concat(staff.first_name, ' ', staff.last_name) AS name, \t\tstore_id\n",
    "        FROM staff\n",
    "    ) AS subquery2\n",
    "    INNER JOIN sales_by_store ON subquery2.name = sales_by_store.manager\n",
    ") AS SUBQUERY2\n",
    "INNER JOIN \n",
    "(\n",
    "    SELECT 15*COUNT(inventory.inventory_id) AS cost, store_id AS store\n",
    "    FROM inventory\n",
    "    GROUP BY store_id\n",
    ") AS SUBQUERY1 ON SUBQUERY1.store = SUBQUERY2.store\n",
    ") AS OVERALLQUERY;"
   ]
  }
 ],
 "metadata": {
  "kernelspec": {
   "display_name": "Python 3",
   "language": "python",
   "name": "python3"
  },
  "language_info": {
   "codemirror_mode": {
    "name": "ipython",
    "version": 3
   },
   "file_extension": ".py",
   "mimetype": "text/x-python",
   "name": "python",
   "nbconvert_exporter": "python",
   "pygments_lexer": "ipython3",
   "version": "3.5.3"
  }
 },
 "nbformat": 4,
 "nbformat_minor": 2
}
