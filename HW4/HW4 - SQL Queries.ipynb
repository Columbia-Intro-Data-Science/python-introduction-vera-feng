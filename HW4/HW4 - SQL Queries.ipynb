{
 "cells": [
  {
   "cell_type": "markdown",
   "metadata": {},
   "source": [
    "# Homework 4 SQL Queries"
   ]
  },
  {
   "cell_type": "markdown",
   "metadata": {},
   "source": [
    "Q1. Give a count of all the videos currently out."
   ]
  },
  {
   "cell_type": "code",
   "execution_count": 2,
   "metadata": {
    "collapsed": false
   },
   "outputs": [
    {
     "ename": "SyntaxError",
     "evalue": "invalid syntax (<ipython-input-2-7e2e02332b73>, line 1)",
     "output_type": "error",
     "traceback": [
      "\u001b[0;36m  File \u001b[0;32m\"<ipython-input-2-7e2e02332b73>\"\u001b[0;36m, line \u001b[0;32m1\u001b[0m\n\u001b[0;31m    SELECT COUNT(rental_id)\u001b[0m\n\u001b[0m               ^\u001b[0m\n\u001b[0;31mSyntaxError\u001b[0m\u001b[0;31m:\u001b[0m invalid syntax\n"
     ]
    }
   ],
   "source": [
    "SELECT COUNT(rental_id) AS \"count of videos out\"\n",
    "FROM rental\n",
    "WHERE return_date IS NULL;"
   ]
  },
  {
   "cell_type": "markdown",
   "metadata": {},
   "source": [
    "Q2. Make a list of all customer names who have videos out and how much they owe."
   ]
  },
  {
   "cell_type": "code",
   "execution_count": null,
   "metadata": {
    "collapsed": true
   },
   "outputs": [],
   "source": [
    "SELECT customer.first_name, customer.last_name, payment.amount FROM \n",
    "(\n",
    "    SELECT rental_id, customer_id\n",
    "    FROM rental\n",
    "    WHERE return_date IS NULL  \n",
    ") AS SUBQUERY\n",
    "INNER JOIN customer ON SUBQUERY.customer_id = customer.customer_id\n",
    "INNER JOIN payment ON SUBQUERY.rental_id = payment.rental_id;"
   ]
  },
  {
   "cell_type": "markdown",
   "metadata": {},
   "source": [
    "Q3. What hour of the day do people rent the most?"
   ]
  },
  {
   "cell_type": "code",
   "execution_count": null,
   "metadata": {
    "collapsed": true
   },
   "outputs": [],
   "source": [
    "#split rental date column into two columns: date and hour\n",
    "SELECT left(rental_date, CHARINDEX(' ', rental_date)) AS RentalDate,\n",
    "substring(Rental_date, CHARINDEX(' ', rental_date)+1, len(rental_date)-(CHARINDEX(' ', Rental_date)-1)) AS RentalHour\n",
    "FROM rental\n",
    "#the program reminds that CHARINDEX doesn't exist\n",
    "\n",
    "#count the appearances of each hour and make a list\n",
    "#use a SQL operator to find the max"
   ]
  },
  {
   "cell_type": "markdown",
   "metadata": {},
   "source": [
    "Q4. Which store is more profitable, assuming all movies cost $15 per inventory item to purchase."
   ]
  },
  {
   "cell_type": "code",
   "execution_count": null,
   "metadata": {
    "collapsed": true
   },
   "outputs": [],
   "source": [
    "#ask about business model: both sales and rental? or you consider rental as sales?\n",
    "#sales - revenue\n",
    "#= total sales - sales quantity * 15"
   ]
  }
 ],
 "metadata": {
  "kernelspec": {
   "display_name": "Python 3",
   "language": "python",
   "name": "python3"
  },
  "language_info": {
   "codemirror_mode": {
    "name": "ipython",
    "version": 3
   },
   "file_extension": ".py",
   "mimetype": "text/x-python",
   "name": "python",
   "nbconvert_exporter": "python",
   "pygments_lexer": "ipython3",
   "version": "3.5.3"
  }
 },
 "nbformat": 4,
 "nbformat_minor": 2
}
